{
 "cells": [
  {
   "cell_type": "markdown",
   "metadata": {
    "colab_type": "text",
    "id": "N6VO0adicQav"
   },
   "source": [
    "<center><h1>Text recognition and speech conversion</h1></center>"
   ]
  },
  {
   "cell_type": "markdown",
   "metadata": {
    "colab_type": "text",
    "id": "1VB4dzKOcQa6"
   },
   "source": [
    "In this project, we will attempt to accomplish two tasks they are:\n",
    "        a. Text recognition from any image\n",
    "        b. Converting the recognized text to speech\n",
    "For this we used \"PyTesseract\" for text recognition and \"gTTS\" for text recognition."
   ]
  },
  {
   "cell_type": "markdown",
   "metadata": {
    "colab_type": "text",
    "id": "1CtFzU-9cQa-"
   },
   "source": [
    "<h3>Step-1 --> Import all required libraries</h3>"
   ]
  },
  {
   "cell_type": "code",
   "execution_count": 9,
   "metadata": {
    "colab": {
     "base_uri": "https://localhost:8080/",
     "height": 370
    },
    "colab_type": "code",
    "executionInfo": {
     "elapsed": 2675,
     "status": "error",
     "timestamp": 1580555403558,
     "user": {
      "displayName": "V.N.S.Satya Teja",
      "photoUrl": "https://lh3.googleusercontent.com/a-/AAuE7mCUdID5EirNgj7UHexz5477tHZLinTTK7R9XRLbRg=s64",
      "userId": "07746803156330824758"
     },
     "user_tz": -330
    },
    "id": "lk1yxwiLcQbB",
    "outputId": "1bd75921-5a21-4797-b89a-553148798ea3"
   },
   "outputs": [],
   "source": [
    "import pytesseract as pt\n",
    "import os\n",
    "from PIL import Image\n",
    "from gtts import gTTS"
   ]
  },
  {
   "cell_type": "markdown",
   "metadata": {
    "colab_type": "text",
    "id": "GepsTPfZcQbM"
   },
   "source": [
    "<h3>Step-2 --> Using pytesseract as an OCR tool, recognize the text in the image and print the recognized text to the output console</h3>"
   ]
  },
  {
   "cell_type": "code",
   "execution_count": 15,
   "metadata": {
    "colab": {},
    "colab_type": "code",
    "id": "k8V62jebcQbO",
    "outputId": "796b1f8f-68b8-4643-9675-cfbba01a1de2"
   },
   "outputs": [
    {
     "name": "stdout",
     "output_type": "stream",
     "text": [
      "2\n",
      "\n",
      "“y\n",
      "-\n",
      "\n",
      "eye grrrre\n",
      ";\n",
      "\n",
      "- ils frit ppiiradeipe P77\n",
      "\n",
      "‘ ptial prtenes\n",
      "\n",
      " \n",
      "\n",
      "ne =,\n",
      "appropee\n",
      "aip roe\n",
      "\n",
      "i\n",
      "h Joate mining\n",
      "lata |’ ghPernes) frily ifite pestihiy, pat\n",
      "sfuation ( yhentity the te tar\n",
      "evs é | = |\n",
      "4, Pattern pestis ees 4 | oes\n",
      "borate ! (wl yigualization and kniovicaye ret Mtations tou\n",
      "j 4, eee ¢ vile\n",
      "senlation | 4/ti\n",
      "eset mined browled\n",
      "\n",
      "terns fepresenting sven a\n",
      "\n",
      "7. Knowledge pre ye 1 SEES)\n",
      "fiques ale pineed 14 |\n",
      "\n",
      "farina of data preprocessing, where data are py, ted:\n",
      "act with the user or a knowledge base the\n",
      "\n",
      "s | through 4 are different\n",
      "and may be stored as new knoviledye inthe\n",
      "\n",
      "wale ay inter\n",
      "The data mining step inay\n",
      "we presented ty the User\n",
      "\n",
      "“te iu\n",
      "for rriininy\n",
      "piteresting patterns\n",
      "\n",
      "    \n",
      "\n",
      "bnowledge base\n",
      "\n",
      "The preceding view shims data iinniny, as one ep shee iia shrvtag Pro.\n",
      "cess, albeit an essential one because it uncovers bide en pa U * winlnota oft Oweven,\n",
      "in industry, in media, and in the research milicu, the aD oo ; ‘ie a “0 ised tg\n",
      "refer to the entire knowledge discovery process (perhaps CAUSE sae 1S § et\n",
      "than bnowledge discovery from data). Therefore, we adopt a br oad vee of data tin.\n",
      "ing functionality: Data mining is the process of discovering interesting patterns ang\n",
      "knowledge from large amounts of data, The data sources can include databases, data\n",
      "\n",
      "warchouses, the Web, other information repositories, or data that are streamed into the\n",
      "\n",
      "system dynamically,\n",
      "\n",
      "What Kinds of Data Can Be Mined?\n",
      "\n",
      "As a pencral technology, data mining can be applied to any kind of data as long as the\n",
      "data are meaningful for a target application. The most basic forms of data for mining\n",
      "applications are database data (Section 1.3.1), data warchouse data (Section 1.3.2),\n",
      "and transactional data (Section 1.3.3). The concepts and techniques presented in this\n",
      "rin focus on such data, Data mining can also be applied to other forms of data (eg,\n",
      "data strearne “red flep 7 4 |\n",
      "‘a i — Hl jg ha data, graph or networked data, spatial data, text data\n",
      "media data, and the WW * present - ' ‘ i\n",
      "Techniques for mining of thes i _ of data are racpiew of such data ea\n",
      ": uly f “tee L C [ . ¢ > . e <\n",
      "depth Pestmen nee Hin : of cata are briefly introduced in Chapter 13. In\n",
      "ny Age ted an advanced topic, Data min; j inwe\n",
      "tO embrace new 4... pic. Data mining will certainly contin\n",
      "race new data types ay they emerge, & y\n"
     ]
    }
   ],
   "source": [
    "pt.pytesseract.tesseract_cmd=r\"C:\\Program Files\\Tesseract-OCR\\tesseract.exe\"\n",
    "img=Image.open(\"dmw.jpg\")\n",
    "mytext=pt.image_to_string(img)\n",
    "print(mytext)"
   ]
  },
  {
   "cell_type": "markdown",
   "metadata": {
    "colab_type": "text",
    "id": "I9UsGeG1cQbX"
   },
   "source": [
    "<h3>Step-3 --> Using gTTS module, convert the recognized text to speech and using \"os\" module give this access to the system's default audio player</h3>"
   ]
  },
  {
   "cell_type": "code",
   "execution_count": 16,
   "metadata": {
    "colab": {},
    "colab_type": "code",
    "id": "LG_FYct4cQbZ",
    "outputId": "f71ec5c8-614a-4825-9099-543e3dd912b4"
   },
   "outputs": [
    {
     "data": {
      "text/plain": [
       "0"
      ]
     },
     "execution_count": 16,
     "metadata": {},
     "output_type": "execute_result"
    }
   ],
   "source": [
    "language='en'\n",
    "output=gTTS(text=mytext, lang=language,slow=False)\n",
    "output.save(\"output2.mp3\")\n",
    "os.system(\"start output2.mp3\")"
   ]
  },
  {
   "cell_type": "code",
   "execution_count": null,
   "metadata": {},
   "outputs": [],
   "source": []
  }
 ],
 "metadata": {
  "colab": {
   "name": "Photo to Text and Speech.ipynb",
   "provenance": []
  },
  "kernelspec": {
   "display_name": "Python 3",
   "language": "python",
   "name": "python3"
  },
  "language_info": {
   "codemirror_mode": {
    "name": "ipython",
    "version": 3
   },
   "file_extension": ".py",
   "mimetype": "text/x-python",
   "name": "python",
   "nbconvert_exporter": "python",
   "pygments_lexer": "ipython3",
   "version": "3.7.6"
  }
 },
 "nbformat": 4,
 "nbformat_minor": 1
}
